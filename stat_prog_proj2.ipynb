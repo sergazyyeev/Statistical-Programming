{
  "nbformat": 4,
  "nbformat_minor": 0,
  "metadata": {
    "colab": {
      "name": "stat_prog_proj2.ipynb",
      "provenance": []
    },
    "kernelspec": {
      "name": "python3",
      "display_name": "Python 3"
    },
    "language_info": {
      "name": "python"
    }
  },
  "cells": [
    {
      "cell_type": "markdown",
      "source": [
        "# Statistical Programming Project 2"
      ],
      "metadata": {
        "id": "BPgwRKDyZeIv"
      }
    },
    {
      "cell_type": "markdown",
      "source": [
        "# Introduction\n",
        "There are two datasets, 'games' and 'teams', that I am using which were taken from <a href = 'https://www.kaggle.com/datasets/nathanlauga/nba-games?select=teams.csv'>Kaggle</a>. Dataset 'games' has 21 columns containing information about number of points, assists, rebounds, field goal percentage, three point percentage, freethrow percentage for each team: home and visitor; from 2004 to 2021. Dataset 'teams' has 14 columns from which only 2 will be useful: TEAM_ID and NICKNAME of the team. So, we should get rid of useless columns. \n",
        "\n",
        "\n",
        "---\n",
        "\n",
        "\n",
        "In this project, I investigated how well we can predict home team wins taking into account number of assists, rebounds, field goal percentage, three point percentage, freethrow percentage of both home and away teams. My motivation is I wanted to know if analytics could predict outcome of the match in the middle of the game. Under assumption that there is no big difference in statistics between first half and second half, this is a reasonably good question. \n",
        "\n",
        "\n",
        "---\n",
        "Three classifiers that we covered were used in this project: K-Nearest Neighbors, Decision Tree, and Random Forest. Since they are all non-parametric feature pre-processing is not needed.\n"
      ],
      "metadata": {
        "id": "qUJIm3QYOk4G"
      }
    },
    {
      "cell_type": "markdown",
      "source": [
        "# Experiments"
      ],
      "metadata": {
        "id": "uhggnKeCOrjS"
      }
    },
    {
      "cell_type": "markdown",
      "source": [
        "## Data Preparation"
      ],
      "metadata": {
        "id": "W4JpxyjYegvd"
      }
    },
    {
      "cell_type": "code",
      "source": [
        "# from project 1\n",
        "import pandas as pd\n",
        "games = pd.read_csv(r'https://raw.githubusercontent.com/sergazyyeev/stat_prog_project1/main/games.csv')\n",
        "teams = pd.read_csv(r'https://raw.githubusercontent.com/sergazyyeev/stat_prog_project1/main/teams.csv')\n",
        "teams = teams[['NICKNAME', 'TEAM_ID']]\n",
        "games.drop(['GAME_ID', 'TEAM_ID_home', 'TEAM_ID_away', 'GAME_DATE_EST', 'GAME_STATUS_TEXT'], axis = 1, inplace = True)\n",
        "games = games.rename(columns = {'HOME_TEAM_ID' : 'TEAM_ID'})\n",
        "games_temp = pd.merge(games, teams, how = 'left', on = 'TEAM_ID')\n",
        "games_temp.TEAM_ID = games_temp.NICKNAME\n",
        "games_temp.drop('NICKNAME', axis = 1, inplace = True)\n",
        "games_temp = games_temp.rename(columns = {'TEAM_ID' : 'HOME_TEAM'})\n",
        "games_temp = games_temp.rename(columns = {'VISITOR_TEAM_ID' : 'TEAM_ID'})\n",
        "data = pd.merge(games_temp, teams, how = 'left', on = 'TEAM_ID')\n",
        "data.TEAM_ID = data.NICKNAME\n",
        "data.drop('NICKNAME', axis = 1, inplace = True)\n",
        "data = data.rename(columns = {'TEAM_ID' : 'VISITOR_TEAM'})\n",
        "data = data.dropna()\n",
        "data.head()"
      ],
      "metadata": {
        "colab": {
          "base_uri": "https://localhost:8080/",
          "height": 270
        },
        "id": "FydlzVrpO5ly",
        "outputId": "ddb6d57e-e387-4826-ac3e-ff356f93995a"
      },
      "execution_count": null,
      "outputs": [
        {
          "output_type": "execute_result",
          "data": {
            "text/plain": [
              "  HOME_TEAM  VISITOR_TEAM  SEASON  PTS_home  FG_PCT_home  FT_PCT_home  \\\n",
              "0      Heat  Timberwolves    2021     104.0        0.398        0.760   \n",
              "1     Bulls     Cavaliers    2021     101.0        0.443        0.933   \n",
              "2     Spurs        Pacers    2021     108.0        0.412        0.813   \n",
              "3  Warriors         Bucks    2021     122.0        0.484        0.933   \n",
              "4   Nuggets       Raptors    2021     115.0        0.551        0.750   \n",
              "\n",
              "   FG3_PCT_home  AST_home  REB_home  PTS_away  FG_PCT_away  FT_PCT_away  \\\n",
              "0         0.333      23.0      53.0     113.0        0.422        0.875   \n",
              "1         0.429      20.0      46.0      91.0        0.419        0.824   \n",
              "2         0.324      28.0      52.0     119.0        0.489        1.000   \n",
              "3         0.400      33.0      55.0     109.0        0.413        0.696   \n",
              "4         0.407      32.0      39.0     127.0        0.471        0.760   \n",
              "\n",
              "   FG3_PCT_away  AST_away  REB_away  HOME_TEAM_WINS  \n",
              "0         0.357      21.0      46.0               0  \n",
              "1         0.208      19.0      40.0               1  \n",
              "2         0.389      23.0      47.0               0  \n",
              "3         0.386      27.0      39.0               1  \n",
              "4         0.387      28.0      50.0               0  "
            ],
            "text/html": [
              "\n",
              "  <div id=\"df-0ae139aa-7068-45e1-90a3-232def34788c\">\n",
              "    <div class=\"colab-df-container\">\n",
              "      <div>\n",
              "<style scoped>\n",
              "    .dataframe tbody tr th:only-of-type {\n",
              "        vertical-align: middle;\n",
              "    }\n",
              "\n",
              "    .dataframe tbody tr th {\n",
              "        vertical-align: top;\n",
              "    }\n",
              "\n",
              "    .dataframe thead th {\n",
              "        text-align: right;\n",
              "    }\n",
              "</style>\n",
              "<table border=\"1\" class=\"dataframe\">\n",
              "  <thead>\n",
              "    <tr style=\"text-align: right;\">\n",
              "      <th></th>\n",
              "      <th>HOME_TEAM</th>\n",
              "      <th>VISITOR_TEAM</th>\n",
              "      <th>SEASON</th>\n",
              "      <th>PTS_home</th>\n",
              "      <th>FG_PCT_home</th>\n",
              "      <th>FT_PCT_home</th>\n",
              "      <th>FG3_PCT_home</th>\n",
              "      <th>AST_home</th>\n",
              "      <th>REB_home</th>\n",
              "      <th>PTS_away</th>\n",
              "      <th>FG_PCT_away</th>\n",
              "      <th>FT_PCT_away</th>\n",
              "      <th>FG3_PCT_away</th>\n",
              "      <th>AST_away</th>\n",
              "      <th>REB_away</th>\n",
              "      <th>HOME_TEAM_WINS</th>\n",
              "    </tr>\n",
              "  </thead>\n",
              "  <tbody>\n",
              "    <tr>\n",
              "      <th>0</th>\n",
              "      <td>Heat</td>\n",
              "      <td>Timberwolves</td>\n",
              "      <td>2021</td>\n",
              "      <td>104.0</td>\n",
              "      <td>0.398</td>\n",
              "      <td>0.760</td>\n",
              "      <td>0.333</td>\n",
              "      <td>23.0</td>\n",
              "      <td>53.0</td>\n",
              "      <td>113.0</td>\n",
              "      <td>0.422</td>\n",
              "      <td>0.875</td>\n",
              "      <td>0.357</td>\n",
              "      <td>21.0</td>\n",
              "      <td>46.0</td>\n",
              "      <td>0</td>\n",
              "    </tr>\n",
              "    <tr>\n",
              "      <th>1</th>\n",
              "      <td>Bulls</td>\n",
              "      <td>Cavaliers</td>\n",
              "      <td>2021</td>\n",
              "      <td>101.0</td>\n",
              "      <td>0.443</td>\n",
              "      <td>0.933</td>\n",
              "      <td>0.429</td>\n",
              "      <td>20.0</td>\n",
              "      <td>46.0</td>\n",
              "      <td>91.0</td>\n",
              "      <td>0.419</td>\n",
              "      <td>0.824</td>\n",
              "      <td>0.208</td>\n",
              "      <td>19.0</td>\n",
              "      <td>40.0</td>\n",
              "      <td>1</td>\n",
              "    </tr>\n",
              "    <tr>\n",
              "      <th>2</th>\n",
              "      <td>Spurs</td>\n",
              "      <td>Pacers</td>\n",
              "      <td>2021</td>\n",
              "      <td>108.0</td>\n",
              "      <td>0.412</td>\n",
              "      <td>0.813</td>\n",
              "      <td>0.324</td>\n",
              "      <td>28.0</td>\n",
              "      <td>52.0</td>\n",
              "      <td>119.0</td>\n",
              "      <td>0.489</td>\n",
              "      <td>1.000</td>\n",
              "      <td>0.389</td>\n",
              "      <td>23.0</td>\n",
              "      <td>47.0</td>\n",
              "      <td>0</td>\n",
              "    </tr>\n",
              "    <tr>\n",
              "      <th>3</th>\n",
              "      <td>Warriors</td>\n",
              "      <td>Bucks</td>\n",
              "      <td>2021</td>\n",
              "      <td>122.0</td>\n",
              "      <td>0.484</td>\n",
              "      <td>0.933</td>\n",
              "      <td>0.400</td>\n",
              "      <td>33.0</td>\n",
              "      <td>55.0</td>\n",
              "      <td>109.0</td>\n",
              "      <td>0.413</td>\n",
              "      <td>0.696</td>\n",
              "      <td>0.386</td>\n",
              "      <td>27.0</td>\n",
              "      <td>39.0</td>\n",
              "      <td>1</td>\n",
              "    </tr>\n",
              "    <tr>\n",
              "      <th>4</th>\n",
              "      <td>Nuggets</td>\n",
              "      <td>Raptors</td>\n",
              "      <td>2021</td>\n",
              "      <td>115.0</td>\n",
              "      <td>0.551</td>\n",
              "      <td>0.750</td>\n",
              "      <td>0.407</td>\n",
              "      <td>32.0</td>\n",
              "      <td>39.0</td>\n",
              "      <td>127.0</td>\n",
              "      <td>0.471</td>\n",
              "      <td>0.760</td>\n",
              "      <td>0.387</td>\n",
              "      <td>28.0</td>\n",
              "      <td>50.0</td>\n",
              "      <td>0</td>\n",
              "    </tr>\n",
              "  </tbody>\n",
              "</table>\n",
              "</div>\n",
              "      <button class=\"colab-df-convert\" onclick=\"convertToInteractive('df-0ae139aa-7068-45e1-90a3-232def34788c')\"\n",
              "              title=\"Convert this dataframe to an interactive table.\"\n",
              "              style=\"display:none;\">\n",
              "        \n",
              "  <svg xmlns=\"http://www.w3.org/2000/svg\" height=\"24px\"viewBox=\"0 0 24 24\"\n",
              "       width=\"24px\">\n",
              "    <path d=\"M0 0h24v24H0V0z\" fill=\"none\"/>\n",
              "    <path d=\"M18.56 5.44l.94 2.06.94-2.06 2.06-.94-2.06-.94-.94-2.06-.94 2.06-2.06.94zm-11 1L8.5 8.5l.94-2.06 2.06-.94-2.06-.94L8.5 2.5l-.94 2.06-2.06.94zm10 10l.94 2.06.94-2.06 2.06-.94-2.06-.94-.94-2.06-.94 2.06-2.06.94z\"/><path d=\"M17.41 7.96l-1.37-1.37c-.4-.4-.92-.59-1.43-.59-.52 0-1.04.2-1.43.59L10.3 9.45l-7.72 7.72c-.78.78-.78 2.05 0 2.83L4 21.41c.39.39.9.59 1.41.59.51 0 1.02-.2 1.41-.59l7.78-7.78 2.81-2.81c.8-.78.8-2.07 0-2.86zM5.41 20L4 18.59l7.72-7.72 1.47 1.35L5.41 20z\"/>\n",
              "  </svg>\n",
              "      </button>\n",
              "      \n",
              "  <style>\n",
              "    .colab-df-container {\n",
              "      display:flex;\n",
              "      flex-wrap:wrap;\n",
              "      gap: 12px;\n",
              "    }\n",
              "\n",
              "    .colab-df-convert {\n",
              "      background-color: #E8F0FE;\n",
              "      border: none;\n",
              "      border-radius: 50%;\n",
              "      cursor: pointer;\n",
              "      display: none;\n",
              "      fill: #1967D2;\n",
              "      height: 32px;\n",
              "      padding: 0 0 0 0;\n",
              "      width: 32px;\n",
              "    }\n",
              "\n",
              "    .colab-df-convert:hover {\n",
              "      background-color: #E2EBFA;\n",
              "      box-shadow: 0px 1px 2px rgba(60, 64, 67, 0.3), 0px 1px 3px 1px rgba(60, 64, 67, 0.15);\n",
              "      fill: #174EA6;\n",
              "    }\n",
              "\n",
              "    [theme=dark] .colab-df-convert {\n",
              "      background-color: #3B4455;\n",
              "      fill: #D2E3FC;\n",
              "    }\n",
              "\n",
              "    [theme=dark] .colab-df-convert:hover {\n",
              "      background-color: #434B5C;\n",
              "      box-shadow: 0px 1px 3px 1px rgba(0, 0, 0, 0.15);\n",
              "      filter: drop-shadow(0px 1px 2px rgba(0, 0, 0, 0.3));\n",
              "      fill: #FFFFFF;\n",
              "    }\n",
              "  </style>\n",
              "\n",
              "      <script>\n",
              "        const buttonEl =\n",
              "          document.querySelector('#df-0ae139aa-7068-45e1-90a3-232def34788c button.colab-df-convert');\n",
              "        buttonEl.style.display =\n",
              "          google.colab.kernel.accessAllowed ? 'block' : 'none';\n",
              "\n",
              "        async function convertToInteractive(key) {\n",
              "          const element = document.querySelector('#df-0ae139aa-7068-45e1-90a3-232def34788c');\n",
              "          const dataTable =\n",
              "            await google.colab.kernel.invokeFunction('convertToInteractive',\n",
              "                                                     [key], {});\n",
              "          if (!dataTable) return;\n",
              "\n",
              "          const docLinkHtml = 'Like what you see? Visit the ' +\n",
              "            '<a target=\"_blank\" href=https://colab.research.google.com/notebooks/data_table.ipynb>data table notebook</a>'\n",
              "            + ' to learn more about interactive tables.';\n",
              "          element.innerHTML = '';\n",
              "          dataTable['output_type'] = 'display_data';\n",
              "          await google.colab.output.renderOutput(dataTable, element);\n",
              "          const docLink = document.createElement('div');\n",
              "          docLink.innerHTML = docLinkHtml;\n",
              "          element.appendChild(docLink);\n",
              "        }\n",
              "      </script>\n",
              "    </div>\n",
              "  </div>\n",
              "  "
            ]
          },
          "metadata": {},
          "execution_count": 1
        }
      ]
    },
    {
      "cell_type": "code",
      "source": [
        "# data for ML models\n",
        "data_for_ml = data[['FG_PCT_home', 'FT_PCT_home', 'AST_home', 'REB_home', \n",
        "                    'FG_PCT_away', 'FT_PCT_away', 'AST_away', 'REB_away',\n",
        "                    'HOME_TEAM_WINS']]\n",
        "X = data_for_ml.drop('HOME_TEAM_WINS', axis = 1)\n",
        "y = data_for_ml['HOME_TEAM_WINS']\n"
      ],
      "metadata": {
        "id": "TveOz3v0e040"
      },
      "execution_count": null,
      "outputs": []
    },
    {
      "cell_type": "code",
      "source": [
        "# train-valid-test split 80:10:10\n",
        "from sklearn.model_selection import train_test_split\n",
        "X_train, X_other, y_train, y_other = train_test_split(X, y, test_size = 0.2, random_state = 0)\n",
        "X_valid, X_test, y_valid, y_test = train_test_split(X_other, y_other, test_size = 0.5, random_state = 0)"
      ],
      "metadata": {
        "id": "fCsHC_qnfCtP"
      },
      "execution_count": null,
      "outputs": []
    },
    {
      "cell_type": "markdown",
      "source": [
        "## KNN"
      ],
      "metadata": {
        "id": "EJhOmeszfL4Z"
      }
    },
    {
      "cell_type": "code",
      "source": [
        "from sklearn.neighbors import KNeighborsClassifier\n",
        "from sklearn import metrics\n",
        "knn = KNeighborsClassifier(n_neighbors = 5)\n",
        "knn.fit(X_train, y_train)\n",
        "y_valid_pred = knn.predict(X_valid)\n",
        "print('Accuracy score is', metrics.accuracy_score(y_valid_pred, y_valid))"
      ],
      "metadata": {
        "id": "Bp5rY20RfIkj",
        "colab": {
          "base_uri": "https://localhost:8080/"
        },
        "outputId": "7abad7a4-c24e-4547-cde6-734dd95c39f4"
      },
      "execution_count": null,
      "outputs": [
        {
          "output_type": "stream",
          "name": "stdout",
          "text": [
            "Accuracy score is 0.7163424124513619\n"
          ]
        }
      ]
    },
    {
      "cell_type": "code",
      "source": [
        "# tuning\n",
        "acc_scores_valid = []\n",
        "for i in range(1,50):\n",
        "  knn = KNeighborsClassifier(n_neighbors = i)\n",
        "  knn.fit(X_train, y_train)\n",
        "  y_valid_pred = knn.predict(X_valid)\n",
        "  acc_scores_valid.append(metrics.accuracy_score(y_valid_pred, y_valid))\n",
        "for i in range(49):\n",
        "  if max(acc_scores_valid) == acc_scores_valid[i]:\n",
        "    print('Maximum accuracy score',max(acc_scores_valid),'is obtained when number of neighbors is', i)"
      ],
      "metadata": {
        "colab": {
          "base_uri": "https://localhost:8080/"
        },
        "id": "j1kV7gGVke7k",
        "outputId": "85eaabab-31cb-47b8-e39e-4538fa746d21"
      },
      "execution_count": null,
      "outputs": [
        {
          "output_type": "stream",
          "name": "stdout",
          "text": [
            "Maximum accuracy score 0.7455252918287938 is obtained when number of neighbors is 20\n"
          ]
        }
      ]
    },
    {
      "cell_type": "code",
      "source": [
        "# train and validation sets combined to train more\n",
        "X_combined = X_train.append(X_valid)\n",
        "y_combined = y_train.append(y_valid)"
      ],
      "metadata": {
        "id": "3HMmk11QnWA4"
      },
      "execution_count": null,
      "outputs": []
    },
    {
      "cell_type": "code",
      "source": [
        "# accuracy of test set\n",
        "knn = KNeighborsClassifier(n_neighbors = 20)\n",
        "knn.fit(X_combined, y_combined)\n",
        "y_test_pred = knn.predict(X_test)\n",
        "knn_acc_score = metrics.accuracy_score(y_test_pred, y_test)\n",
        "print('Accuracy on test set is', knn_acc_score)"
      ],
      "metadata": {
        "colab": {
          "base_uri": "https://localhost:8080/"
        },
        "id": "_ZkLQMQcli1R",
        "outputId": "92b071f1-8d33-4d1f-8a47-17cc275d5cf1"
      },
      "execution_count": null,
      "outputs": [
        {
          "output_type": "stream",
          "name": "stdout",
          "text": [
            "Accuracy on test set is 0.7396887159533074\n"
          ]
        }
      ]
    },
    {
      "cell_type": "code",
      "source": [
        "# validation vs test\n",
        "acc_scores_test = []\n",
        "for i in range(1,50):\n",
        "  knn = KNeighborsClassifier(n_neighbors = i)\n",
        "  knn.fit(X_combined, y_combined)\n",
        "  y_test_pred = knn.predict(X_test)\n",
        "  acc_scores_test.append(metrics.accuracy_score(y_test_pred, y_test))\n",
        "\n",
        "import matplotlib.pyplot as plt\n",
        "import numpy as np\n",
        "plt.plot(np.arange(1,50), acc_scores_valid, color = 'blue')\n",
        "plt.plot(np.arange(1,50), acc_scores_test, color = 'red')\n",
        "plt.xlabel('n neighbors')\n",
        "plt.ylabel('accuracy')\n",
        "plt.title('Validation vs Test')\n",
        "plt.show()"
      ],
      "metadata": {
        "colab": {
          "base_uri": "https://localhost:8080/",
          "height": 295
        },
        "id": "zQx44iinsaCQ",
        "outputId": "87ebf324-a3f3-4925-d10c-070f1fb5f3cf"
      },
      "execution_count": null,
      "outputs": [
        {
          "output_type": "display_data",
          "data": {
            "text/plain": [
              "<Figure size 432x288 with 1 Axes>"
            ],
            "image/png": "[encoded data removed]"
          },
          "metadata": {
            "needs_background": "light"
          }
        }
      ]
    },
    {
      "cell_type": "markdown",
      "source": [
        "## Decision Tree"
      ],
      "metadata": {
        "id": "KO_r7IElvGI6"
      }
    },
    {
      "cell_type": "code",
      "source": [
        "from sklearn.tree import DecisionTreeClassifier\n",
        "dtree = DecisionTreeClassifier(max_depth = 3, random_state = 0)\n",
        "dtree.fit(X_train, y_train)\n",
        "y_valid_pred = dtree.predict(X_valid)\n",
        "metrics.accuracy_score(y_valid_pred, y_valid)"
      ],
      "metadata": {
        "colab": {
          "base_uri": "https://localhost:8080/"
        },
        "id": "mRqQ4rX9vFTg",
        "outputId": "8d827d64-a009-4caa-ef2a-14441eeaa674"
      },
      "execution_count": null,
      "outputs": [
        {
          "output_type": "execute_result",
          "data": {
            "text/plain": [
              "0.7797665369649806"
            ]
          },
          "metadata": {},
          "execution_count": 12
        }
      ]
    },
    {
      "cell_type": "code",
      "source": [
        "# tuning\n",
        "acc_scores_valid = []\n",
        "for i in range(1,30):\n",
        "  dtree = DecisionTreeClassifier(max_depth = i, random_state = 0)\n",
        "  dtree.fit(X_train, y_train)\n",
        "  y_valid_pred = dtree.predict(X_valid)\n",
        "  acc_scores_valid.append(metrics.accuracy_score(y_valid_pred, y_valid))\n",
        "for i in range(29):\n",
        "  if max(acc_scores_valid) == acc_scores_valid[i]:\n",
        "    print('Maximum accuracy of',max(acc_scores_valid),'occurs when max depth is', i + 1)"
      ],
      "metadata": {
        "colab": {
          "base_uri": "https://localhost:8080/"
        },
        "id": "SSDJkLccxyvt",
        "outputId": "a89ca7bb-cacf-4148-cb21-b66dbe43dd55"
      },
      "execution_count": null,
      "outputs": [
        {
          "output_type": "stream",
          "name": "stdout",
          "text": [
            "Maximum accuracy of 0.8019455252918288 occurs when max depth is 9\n"
          ]
        }
      ]
    },
    {
      "cell_type": "code",
      "source": [
        "# accuracy of test set\n",
        "dtree = DecisionTreeClassifier(max_depth = 9)\n",
        "dtree.fit(X_combined, y_combined)\n",
        "y_test_pred = dtree.predict(X_test)\n",
        "dt_acc_score = metrics.accuracy_score(y_test_pred, y_test)\n",
        "print('Accuracy on test set is', dt_acc_score)"
      ],
      "metadata": {
        "colab": {
          "base_uri": "https://localhost:8080/"
        },
        "id": "XoiZVpN3ycLr",
        "outputId": "e56fcf66-2a77-4ded-c7d1-800748d59487"
      },
      "execution_count": null,
      "outputs": [
        {
          "output_type": "stream",
          "name": "stdout",
          "text": [
            "Accuracy on test set is 0.7910505836575875\n"
          ]
        }
      ]
    },
    {
      "cell_type": "code",
      "source": [
        "# validation vs test\n",
        "acc_scores_test = []\n",
        "for i in range(1,30):\n",
        "  dtree = DecisionTreeClassifier(max_depth = i, random_state = 0)\n",
        "  dtree.fit(X_combined, y_combined)\n",
        "  y_test_pred = dtree.predict(X_test)\n",
        "  acc_scores_test.append(metrics.accuracy_score(y_test_pred, y_test))\n",
        "\n",
        "plt.plot(np.arange(1,30), acc_scores_valid, color = 'blue', label = 'valid')\n",
        "plt.plot(np.arange(1,30), acc_scores_test, color = 'red', label = 'test')\n",
        "plt.xlabel('max depth')\n",
        "plt.ylabel('accuracy')\n",
        "plt.title('Validation vs Test')\n",
        "plt.legend()\n",
        "plt.show()"
      ],
      "metadata": {
        "colab": {
          "base_uri": "https://localhost:8080/",
          "height": 295
        },
        "id": "HTs83LXKzC0t",
        "outputId": "8b751742-a4e5-4c19-e086-33002179a816"
      },
      "execution_count": null,
      "outputs": [
        {
          "output_type": "display_data",
          "data": {
            "text/plain": [
              "<Figure size 432x288 with 1 Axes>"
            ],
            "image/png": "[encoded data removed]"
          },
          "metadata": {
            "needs_background": "light"
          }
        }
      ]
    },
    {
      "cell_type": "markdown",
      "source": [
        "## Random Forest "
      ],
      "metadata": {
        "id": "scg9lB_jz2aj"
      }
    },
    {
      "cell_type": "code",
      "source": [
        "from sklearn.ensemble import RandomForestClassifier\n",
        "rforest = RandomForestClassifier(n_estimators = 100, random_state = 0)\n",
        "rforest.fit(X_train, y_train)\n",
        "y_valid_pred = rforest.predict(X_valid)\n",
        "metrics.accuracy_score(y_valid_pred, y_valid)"
      ],
      "metadata": {
        "colab": {
          "base_uri": "https://localhost:8080/"
        },
        "id": "cK93t2gWzqz9",
        "outputId": "a7139ee3-b8bd-4fc7-acc9-c9227067b578"
      },
      "execution_count": null,
      "outputs": [
        {
          "output_type": "execute_result",
          "data": {
            "text/plain": [
              "0.8268482490272373"
            ]
          },
          "metadata": {},
          "execution_count": 16
        }
      ]
    },
    {
      "cell_type": "code",
      "source": [
        "# tuning\n",
        "acc_scores_valid = []\n",
        "for i in range(50, 250, 10):\n",
        "  rforest = RandomForestClassifier(n_estimators = i, random_state = 0)\n",
        "  rforest.fit(X_train, y_train)\n",
        "  y_valid_pred = rforest.predict(X_valid)\n",
        "  acc_scores_valid.append(metrics.accuracy_score(y_valid_pred, y_valid))\n",
        "for i in range(len(acc_scores_valid)):\n",
        "  if max(acc_scores_valid) == acc_scores_valid[i]:\n",
        "    print('Maximum accuracy of',max(acc_scores_valid),'occurs when number of estimators is', i*10 + 50)"
      ],
      "metadata": {
        "colab": {
          "base_uri": "https://localhost:8080/"
        },
        "id": "jWjfDZcT6Zsj",
        "outputId": "9652f99f-4bf7-4dd7-fd30-1c930e2b556c"
      },
      "execution_count": null,
      "outputs": [
        {
          "output_type": "stream",
          "name": "stdout",
          "text": [
            "Maximum accuracy of 0.8295719844357977 occurs when number of estimators is 130\n"
          ]
        }
      ]
    },
    {
      "cell_type": "code",
      "source": [
        "# accuracy of test set\n",
        "rforest = RandomForestClassifier(n_estimators = 130, random_state = 0)\n",
        "rforest.fit(X_combined, y_combined)\n",
        "y_test_pred = rforest.predict(X_test)\n",
        "rf_acc_score = metrics.accuracy_score(y_test_pred, y_test)\n",
        "print('Accuracy on test set is', rf_acc_score)"
      ],
      "metadata": {
        "colab": {
          "base_uri": "https://localhost:8080/"
        },
        "id": "dT9Yr68E5t03",
        "outputId": "574d73d9-ef50-4b18-cc07-cd8b296bd19e"
      },
      "execution_count": null,
      "outputs": [
        {
          "output_type": "stream",
          "name": "stdout",
          "text": [
            "Accuracy on test set is 0.830739299610895\n"
          ]
        }
      ]
    },
    {
      "cell_type": "code",
      "source": [
        "# validation vs test\n",
        "acc_scores_test = []\n",
        "for i in range(50,250,10):\n",
        "  rforest = RandomForestClassifier(n_estimators = i, random_state = 0)\n",
        "  rforest.fit(X_combined, y_combined)\n",
        "  y_test_pred = rforest.predict(X_test)\n",
        "  acc_scores_test.append(metrics.accuracy_score(y_test_pred, y_test))\n",
        "\n",
        "plt.plot(np.arange(50,250,10), acc_scores_valid, color = 'blue', label = 'valid')\n",
        "plt.plot(np.arange(50,250,10), acc_scores_test, color = 'red', label = 'test')\n",
        "plt.xlabel('n estimators')\n",
        "plt.ylabel('accuracy')\n",
        "plt.title('Validation vs Test')\n",
        "plt.legend()\n",
        "plt.show()"
      ],
      "metadata": {
        "colab": {
          "base_uri": "https://localhost:8080/",
          "height": 295
        },
        "id": "TF6JJv957bgr",
        "outputId": "4c97776d-ceb8-4b53-de9f-79cf7389a29b"
      },
      "execution_count": null,
      "outputs": [
        {
          "output_type": "display_data",
          "data": {
            "text/plain": [
              "<Figure size 432x288 with 1 Axes>"
            ],
            "image/png": "[encoded data removed]"
          },
          "metadata": {
            "needs_background": "light"
          }
        }
      ]
    },
    {
      "cell_type": "markdown",
      "source": [
        "# Analysis and Discussion"
      ],
      "metadata": {
        "id": "kE8W5ZDxOte5"
      }
    },
    {
      "cell_type": "code",
      "source": [
        "print(\"{:<8}    {:<10} \".format('Classifier','Accuracy score'))\n",
        "print(\"{:<8}      {:<15} \".format('KNN', knn_acc_score))\n",
        "print(\"{:<8} {:<15} \".format('Decision Tree', dt_acc_score))\n",
        "print(\"{:<8} {:<15} \".format('Random Forest', rf_acc_score))"
      ],
      "metadata": {
        "colab": {
          "base_uri": "https://localhost:8080/"
        },
        "id": "DOBFQgZyASq9",
        "outputId": "086bd6e8-1531-4282-c7a9-14085f318411"
      },
      "execution_count": null,
      "outputs": [
        {
          "output_type": "stream",
          "name": "stdout",
          "text": [
            "Classifier    Accuracy score \n",
            "KNN           0.7396887159533074 \n",
            "Decision Tree 0.7910505836575875 \n",
            "Random Forest 0.830739299610895 \n"
          ]
        }
      ]
    },
    {
      "cell_type": "code",
      "source": [
        "# proportion of home team wins\n",
        "sum(data_for_ml.HOME_TEAM_WINS == 1)/len(data_for_ml)"
      ],
      "metadata": {
        "colab": {
          "base_uri": "https://localhost:8080/"
        },
        "id": "RqrFCD6EQIrG",
        "outputId": "ff663e6d-51db-43b4-e1ee-cb311a0dacdd"
      },
      "execution_count": null,
      "outputs": [
        {
          "output_type": "execute_result",
          "data": {
            "text/plain": [
              "0.5897575592481613"
            ]
          },
          "metadata": {},
          "execution_count": 21
        }
      ]
    },
    {
      "cell_type": "markdown",
      "source": [
        "KNN performs worse than other classifiers on the new dataset because it is less flexible in terms of learning. It memorizes the whole training dataset and applies fitted structure to unseen dataset. Decision Tree has automatic feature interaction. Also, data is not perfectly balanced (60/40). Therefore KNN has less accurate results. Decision Tree is more robust to unbalanced data. Random Forest performs better because it consists of decision trees under optimal hyperparameters. \\\\\n",
        "I tuned classifiers using only one hyperparameter in each case: KNN is tuned by number of neighbors, Decision Tree is tuned by maximum level of depth, and Random Forest is tuned by number of estimators."
      ],
      "metadata": {
        "id": "XAC7ehpwE6-N"
      }
    },
    {
      "cell_type": "markdown",
      "source": [
        "# Conclusion\n",
        "To conclude, Random Forest provides more accurate results (about 83%) in prediction of home team wins in the NBA league compared to K-Nearest Neighbors (74%) and Decision Tree classifiers (79%). Single hyperparameters were used to tune classifiers. In further work, more hyperparameters should be investigated to enhance the performance of classifiers. Also, to check how well classifiers generalize I would take new statistics obtained from 2022 playoff games. "
      ],
      "metadata": {
        "id": "0K5yq6QSOxfS"
      }
    }
  ]
}